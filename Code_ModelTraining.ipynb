{
 "cells": [
  {
   "cell_type": "markdown",
   "metadata": {
    "id": "rWmKLuCM1T4W"
   },
   "source": [
    "## Load Datasets and Libraries\n",
    "\n",
    "---------------------------------"
   ]
  },
  {
   "cell_type": "code",
   "execution_count": 93,
   "metadata": {
    "id": "itCPNUhL1T4b"
   },
   "outputs": [],
   "source": [
    "import pandas as pd\n",
    "import numpy as np\n",
    "import torch\n",
    "import torch.nn as nn\n",
    "import torch.optim as optim\n",
    "from collections import deque\n",
    "import random\n",
    "\n",
    "from sklearn.model_selection import train_test_split"
   ]
  },
  {
   "cell_type": "code",
   "execution_count": 94,
   "metadata": {
    "colab": {
     "base_uri": "https://localhost:8080/"
    },
    "id": "a3U9Dx5a1U_v",
    "outputId": "31e244f3-e043-489c-b0e9-26a0a1d129a8"
   },
   "outputs": [],
   "source": [
    "#from google.colab import drive\n",
    "\n",
    "#drive.mount('/content/drive')"
   ]
  },
  {
   "cell_type": "code",
   "execution_count": 95,
   "metadata": {
    "id": "4CcPpNyg11-4"
   },
   "outputs": [],
   "source": [
    "# Define the paths to the datasets\n",
    "#dataset1_path = r\"/content/drive/MyDrive/FYP/AMZN_cleaned.csv\"\n",
    "#dataset2_path = r\"/content/drive/MyDrive/FYP/GOOGL_cleaned.csv\"\n",
    "#dataset3_path = r\"/content/drive/MyDrive/FYP/MSFT_cleaned.csv\""
   ]
  },
  {
   "cell_type": "code",
   "execution_count": 96,
   "metadata": {
    "id": "hXGQILvb1T4d"
   },
   "outputs": [],
   "source": [
    "amzn_df = pd.read_csv('AMZN_cleaned.csv')\n",
    "googl_df = pd.read_csv('GOOGL_cleaned.csv')\n",
    "msft_df = pd.read_csv('MSFT_cleaned.csv')"
   ]
  },
  {
   "cell_type": "code",
   "execution_count": 97,
   "metadata": {
    "colab": {
     "base_uri": "https://localhost:8080/",
     "height": 206
    },
    "id": "4YeNy4vr1T4e",
    "outputId": "5589e5bf-2b86-42b8-f6d7-cbe297bd4db2"
   },
   "outputs": [
    {
     "data": {
      "text/html": [
       "<div>\n",
       "<style scoped>\n",
       "    .dataframe tbody tr th:only-of-type {\n",
       "        vertical-align: middle;\n",
       "    }\n",
       "\n",
       "    .dataframe tbody tr th {\n",
       "        vertical-align: top;\n",
       "    }\n",
       "\n",
       "    .dataframe thead th {\n",
       "        text-align: right;\n",
       "    }\n",
       "</style>\n",
       "<table border=\"1\" class=\"dataframe\">\n",
       "  <thead>\n",
       "    <tr style=\"text-align: right;\">\n",
       "      <th></th>\n",
       "      <th>Open</th>\n",
       "      <th>High</th>\n",
       "      <th>Low</th>\n",
       "      <th>Close</th>\n",
       "      <th>SMA</th>\n",
       "      <th>EMA</th>\n",
       "      <th>MACD</th>\n",
       "    </tr>\n",
       "  </thead>\n",
       "  <tbody>\n",
       "    <tr>\n",
       "      <th>0</th>\n",
       "      <td>14.1500</td>\n",
       "      <td>14.2100</td>\n",
       "      <td>13.3555</td>\n",
       "      <td>13.6380</td>\n",
       "      <td>13.426175</td>\n",
       "      <td>13.527232</td>\n",
       "      <td>0.161967</td>\n",
       "    </tr>\n",
       "    <tr>\n",
       "      <th>1</th>\n",
       "      <td>13.5520</td>\n",
       "      <td>13.7970</td>\n",
       "      <td>13.1850</td>\n",
       "      <td>13.2750</td>\n",
       "      <td>13.446650</td>\n",
       "      <td>13.488427</td>\n",
       "      <td>0.129849</td>\n",
       "    </tr>\n",
       "    <tr>\n",
       "      <th>2</th>\n",
       "      <td>13.4465</td>\n",
       "      <td>13.4465</td>\n",
       "      <td>13.1400</td>\n",
       "      <td>13.2500</td>\n",
       "      <td>13.462950</td>\n",
       "      <td>13.451746</td>\n",
       "      <td>0.101210</td>\n",
       "    </tr>\n",
       "    <tr>\n",
       "      <th>3</th>\n",
       "      <td>13.1390</td>\n",
       "      <td>13.2340</td>\n",
       "      <td>12.9535</td>\n",
       "      <td>12.9990</td>\n",
       "      <td>13.465025</td>\n",
       "      <td>13.382093</td>\n",
       "      <td>0.057597</td>\n",
       "    </tr>\n",
       "    <tr>\n",
       "      <th>4</th>\n",
       "      <td>13.1000</td>\n",
       "      <td>13.4015</td>\n",
       "      <td>13.0730</td>\n",
       "      <td>13.3445</td>\n",
       "      <td>13.461100</td>\n",
       "      <td>13.376309</td>\n",
       "      <td>0.050332</td>\n",
       "    </tr>\n",
       "  </tbody>\n",
       "</table>\n",
       "</div>"
      ],
      "text/plain": [
       "      Open     High      Low    Close        SMA        EMA      MACD\n",
       "0  14.1500  14.2100  13.3555  13.6380  13.426175  13.527232  0.161967\n",
       "1  13.5520  13.7970  13.1850  13.2750  13.446650  13.488427  0.129849\n",
       "2  13.4465  13.4465  13.1400  13.2500  13.462950  13.451746  0.101210\n",
       "3  13.1390  13.2340  12.9535  12.9990  13.465025  13.382093  0.057597\n",
       "4  13.1000  13.4015  13.0730  13.3445  13.461100  13.376309  0.050332"
      ]
     },
     "execution_count": 97,
     "metadata": {},
     "output_type": "execute_result"
    }
   ],
   "source": [
    "amzn_df.head()"
   ]
  },
  {
   "cell_type": "code",
   "execution_count": 98,
   "metadata": {
    "colab": {
     "base_uri": "https://localhost:8080/",
     "height": 206
    },
    "id": "8GONsd8x1T4f",
    "outputId": "e5e1ae72-e4fa-4845-c5d7-8f7632ac53f7"
   },
   "outputs": [
    {
     "data": {
      "text/html": [
       "<div>\n",
       "<style scoped>\n",
       "    .dataframe tbody tr th:only-of-type {\n",
       "        vertical-align: middle;\n",
       "    }\n",
       "\n",
       "    .dataframe tbody tr th {\n",
       "        vertical-align: top;\n",
       "    }\n",
       "\n",
       "    .dataframe thead th {\n",
       "        text-align: right;\n",
       "    }\n",
       "</style>\n",
       "<table border=\"1\" class=\"dataframe\">\n",
       "  <thead>\n",
       "    <tr style=\"text-align: right;\">\n",
       "      <th></th>\n",
       "      <th>Open</th>\n",
       "      <th>High</th>\n",
       "      <th>Low</th>\n",
       "      <th>Close</th>\n",
       "      <th>SMA</th>\n",
       "      <th>EMA</th>\n",
       "      <th>MACD</th>\n",
       "    </tr>\n",
       "  </thead>\n",
       "  <tbody>\n",
       "    <tr>\n",
       "      <th>0</th>\n",
       "      <td>18.862362</td>\n",
       "      <td>19.042793</td>\n",
       "      <td>18.841593</td>\n",
       "      <td>18.864614</td>\n",
       "      <td>18.346121</td>\n",
       "      <td>18.517347</td>\n",
       "      <td>0.163696</td>\n",
       "    </tr>\n",
       "    <tr>\n",
       "      <th>1</th>\n",
       "      <td>18.781532</td>\n",
       "      <td>18.959459</td>\n",
       "      <td>18.775024</td>\n",
       "      <td>18.911161</td>\n",
       "      <td>18.386712</td>\n",
       "      <td>18.577934</td>\n",
       "      <td>0.182985</td>\n",
       "    </tr>\n",
       "    <tr>\n",
       "      <th>2</th>\n",
       "      <td>18.973974</td>\n",
       "      <td>19.434435</td>\n",
       "      <td>18.971472</td>\n",
       "      <td>19.409409</td>\n",
       "      <td>18.451689</td>\n",
       "      <td>18.705853</td>\n",
       "      <td>0.235759</td>\n",
       "    </tr>\n",
       "    <tr>\n",
       "      <th>3</th>\n",
       "      <td>19.211460</td>\n",
       "      <td>19.281031</td>\n",
       "      <td>18.975725</td>\n",
       "      <td>18.994493</td>\n",
       "      <td>18.478028</td>\n",
       "      <td>18.750259</td>\n",
       "      <td>0.241321</td>\n",
       "    </tr>\n",
       "    <tr>\n",
       "      <th>4</th>\n",
       "      <td>19.047297</td>\n",
       "      <td>19.297047</td>\n",
       "      <td>19.005756</td>\n",
       "      <td>19.162663</td>\n",
       "      <td>18.516804</td>\n",
       "      <td>18.813706</td>\n",
       "      <td>0.256344</td>\n",
       "    </tr>\n",
       "  </tbody>\n",
       "</table>\n",
       "</div>"
      ],
      "text/plain": [
       "        Open       High        Low      Close        SMA        EMA      MACD\n",
       "0  18.862362  19.042793  18.841593  18.864614  18.346121  18.517347  0.163696\n",
       "1  18.781532  18.959459  18.775024  18.911161  18.386712  18.577934  0.182985\n",
       "2  18.973974  19.434435  18.971472  19.409409  18.451689  18.705853  0.235759\n",
       "3  19.211460  19.281031  18.975725  18.994493  18.478028  18.750259  0.241321\n",
       "4  19.047297  19.297047  19.005756  19.162663  18.516804  18.813706  0.256344"
      ]
     },
     "execution_count": 98,
     "metadata": {},
     "output_type": "execute_result"
    }
   ],
   "source": [
    "googl_df.head()"
   ]
  },
  {
   "cell_type": "code",
   "execution_count": 99,
   "metadata": {
    "colab": {
     "base_uri": "https://localhost:8080/",
     "height": 206
    },
    "id": "L_EsKC8C1T4g",
    "outputId": "3445d4dd-587d-44aa-a5bc-d6a06074e6c1"
   },
   "outputs": [
    {
     "data": {
      "text/html": [
       "<div>\n",
       "<style scoped>\n",
       "    .dataframe tbody tr th:only-of-type {\n",
       "        vertical-align: middle;\n",
       "    }\n",
       "\n",
       "    .dataframe tbody tr th {\n",
       "        vertical-align: top;\n",
       "    }\n",
       "\n",
       "    .dataframe thead th {\n",
       "        text-align: right;\n",
       "    }\n",
       "</style>\n",
       "<table border=\"1\" class=\"dataframe\">\n",
       "  <thead>\n",
       "    <tr style=\"text-align: right;\">\n",
       "      <th></th>\n",
       "      <th>Open</th>\n",
       "      <th>High</th>\n",
       "      <th>Low</th>\n",
       "      <th>Close</th>\n",
       "      <th>SMA</th>\n",
       "      <th>EMA</th>\n",
       "      <th>MACD</th>\n",
       "    </tr>\n",
       "  </thead>\n",
       "  <tbody>\n",
       "    <tr>\n",
       "      <th>0</th>\n",
       "      <td>28.010000</td>\n",
       "      <td>28.190001</td>\n",
       "      <td>27.760000</td>\n",
       "      <td>27.850000</td>\n",
       "      <td>27.2260</td>\n",
       "      <td>27.569285</td>\n",
       "      <td>0.130848</td>\n",
       "    </tr>\n",
       "    <tr>\n",
       "      <th>1</th>\n",
       "      <td>27.790001</td>\n",
       "      <td>27.969999</td>\n",
       "      <td>27.400000</td>\n",
       "      <td>27.450001</td>\n",
       "      <td>27.2175</td>\n",
       "      <td>27.550934</td>\n",
       "      <td>0.111640</td>\n",
       "    </tr>\n",
       "    <tr>\n",
       "      <th>2</th>\n",
       "      <td>27.670000</td>\n",
       "      <td>28.049999</td>\n",
       "      <td>27.549999</td>\n",
       "      <td>27.930000</td>\n",
       "      <td>27.2515</td>\n",
       "      <td>27.609251</td>\n",
       "      <td>0.133609</td>\n",
       "    </tr>\n",
       "    <tr>\n",
       "      <th>3</th>\n",
       "      <td>27.870001</td>\n",
       "      <td>28.020000</td>\n",
       "      <td>27.420000</td>\n",
       "      <td>27.440001</td>\n",
       "      <td>27.2865</td>\n",
       "      <td>27.583213</td>\n",
       "      <td>0.110211</td>\n",
       "    </tr>\n",
       "    <tr>\n",
       "      <th>4</th>\n",
       "      <td>27.620001</td>\n",
       "      <td>27.660000</td>\n",
       "      <td>27.360001</td>\n",
       "      <td>27.500000</td>\n",
       "      <td>27.3270</td>\n",
       "      <td>27.570411</td>\n",
       "      <td>0.095409</td>\n",
       "    </tr>\n",
       "  </tbody>\n",
       "</table>\n",
       "</div>"
      ],
      "text/plain": [
       "        Open       High        Low      Close      SMA        EMA      MACD\n",
       "0  28.010000  28.190001  27.760000  27.850000  27.2260  27.569285  0.130848\n",
       "1  27.790001  27.969999  27.400000  27.450001  27.2175  27.550934  0.111640\n",
       "2  27.670000  28.049999  27.549999  27.930000  27.2515  27.609251  0.133609\n",
       "3  27.870001  28.020000  27.420000  27.440001  27.2865  27.583213  0.110211\n",
       "4  27.620001  27.660000  27.360001  27.500000  27.3270  27.570411  0.095409"
      ]
     },
     "execution_count": 99,
     "metadata": {},
     "output_type": "execute_result"
    }
   ],
   "source": [
    "msft_df.head()"
   ]
  },
  {
   "cell_type": "markdown",
   "metadata": {
    "id": "y7AuqsZr1T4i"
   },
   "source": [
    "## Model Construction and Training\n",
    "\n",
    "----------------------------------------------------"
   ]
  },
  {
   "cell_type": "markdown",
   "metadata": {
    "id": "ZPST7VxX1T4i"
   },
   "source": [
    "### Define Trading Environment"
   ]
  },
  {
   "cell_type": "code",
   "execution_count": 102,
   "metadata": {
    "id": "2i02PUWA1T4j"
   },
   "outputs": [],
   "source": [
    "class TradingEnv:\n",
    "    def __init__(self, data, initial_capital=100):\n",
    "        self.data = data\n",
    "        self.state_space = ['Open', 'High', 'Low', 'Close', 'SMA', 'EMA', 'MACD']\n",
    "        self.action_space = ['Sell', 'Hold', 'Buy']\n",
    "        self.initial_capital = initial_capital\n",
    "        self.reset()\n",
    "\n",
    "    def reset(self):\n",
    "        self.current_step = 0\n",
    "        self.portfolio_value = self.initial_capital\n",
    "        self.holding = False\n",
    "        self.buy_price = 0.0\n",
    "\n",
    "    def step(self, action):\n",
    "        current_price = self.data['Close'].iloc[self.current_step]\n",
    "        reward = 0\n",
    "\n",
    "        if action == 2:  # Buy\n",
    "            if not self.holding:\n",
    "                self.buy_price = current_price\n",
    "                self.holding = True\n",
    "\n",
    "        elif action == 0:  # Sell\n",
    "            if self.holding:\n",
    "                reward = current_price - self.buy_price\n",
    "                self.portfolio_value += reward\n",
    "                self.holding = False\n",
    "\n",
    "        self.current_step += 1\n",
    "        done = self.current_step == len(self.data) - 1\n",
    "\n",
    "        #print(f\"Action: {self.action_space[action]}, Reward: {reward}, Done: {done}, Portfolio Value: {self.portfolio_value}\")\n",
    "\n",
    "        return reward, done\n",
    "\n",
    "    def get_state(self):\n",
    "        return self.data.iloc[self.current_step][self.state_space].values\n",
    "\n",
    "    def get_portfolio_value(self):\n",
    "        return self.portfolio_value"
   ]
  },
  {
   "cell_type": "markdown",
   "metadata": {
    "id": "vsQlYcNs1T4j"
   },
   "source": [
    "### Construct DQN-LSTM Model"
   ]
  },
  {
   "cell_type": "code",
   "execution_count": 104,
   "metadata": {
    "id": "MYLTWmcO1T4j"
   },
   "outputs": [],
   "source": [
    "class DQN_LSTM(nn.Module):\n",
    "    def __init__(self, input_dim, hidden_dim, output_dim):\n",
    "        super(DQN_LSTM, self).__init__()\n",
    "        self.lstm = nn.LSTM(input_dim, hidden_dim, batch_first=True)\n",
    "        self.fc = nn.Linear(hidden_dim, output_dim)\n",
    "\n",
    "    def forward(self, x):\n",
    "        h_0 = torch.zeros(1, x.size(0), hidden_dim).to(x.device)\n",
    "        c_0 = torch.zeros(1, x.size(0), hidden_dim).to(x.device)\n",
    "        out, _ = self.lstm(x, (h_0, c_0))\n",
    "        out = self.fc(out[:, -1, :])\n",
    "        return out\n"
   ]
  },
  {
   "cell_type": "markdown",
   "metadata": {
    "id": "8fL3pJwt1T4j"
   },
   "source": [
    "### Train Model\n"
   ]
  },
  {
   "cell_type": "code",
   "execution_count": 106,
   "metadata": {
    "id": "Qqto3oVW1T4k"
   },
   "outputs": [],
   "source": [
    "def train_dqn_lstm(env, model, optimizer, criterion, num_episodes=5, batch_size=64, gamma=0.95, epsilon=1.0, epsilon_decay=0.995, epsilon_min=0.01):\n",
    "    memory = deque(maxlen=2000)\n",
    "    best_portfolio_value = 0\n",
    "    best_portfolio_values = []\n",
    "\n",
    "    for episode in range(num_episodes):\n",
    "        env.reset()\n",
    "        state = torch.tensor(np.array([env.get_state()]), dtype=torch.float32).to(device)\n",
    "        total_reward = 0\n",
    "        portfolio_values = [env.get_portfolio_value()]\n",
    "\n",
    "        while True:\n",
    "            if np.random.rand() <= epsilon:\n",
    "                action = np.random.choice(len(env.action_space))\n",
    "            else:\n",
    "                with torch.no_grad():\n",
    "                    q_values = model(state.unsqueeze(0))\n",
    "                    action = torch.argmax(q_values).item()\n",
    "\n",
    "            reward, done = env.step(action)\n",
    "            total_reward += reward\n",
    "            next_state = torch.tensor([env.get_state()], dtype=torch.float32).to(device)\n",
    "            memory.append((state, action, reward, next_state, done))\n",
    "            state = next_state\n",
    "\n",
    "            portfolio_values.append(env.get_portfolio_value())\n",
    "\n",
    "            if done:\n",
    "                final_portfolio_value = env.get_portfolio_value()\n",
    "                if final_portfolio_value > best_portfolio_value:\n",
    "                    best_portfolio_value = final_portfolio_value\n",
    "                    best_portfolio_values = portfolio_values\n",
    "                print(f\"Episode {episode + 1}/{num_episodes}, Total Reward: {total_reward}, Portfolio Value: {final_portfolio_value}\")\n",
    "                break\n",
    "\n",
    "            if len(memory) > batch_size:\n",
    "                batch = random.sample(memory, batch_size)\n",
    "                for s, a, r, s_next, d in batch:\n",
    "                    q_update = r\n",
    "                    if not d:\n",
    "                        q_update = (r + gamma * torch.max(model(s_next.unsqueeze(0))).item())\n",
    "                    q_values = model(s.unsqueeze(0))\n",
    "                    q_values[0][a] = q_update\n",
    "                    optimizer.zero_grad()\n",
    "                    loss = criterion(model(s.unsqueeze(0)), q_values)\n",
    "                    loss.backward()\n",
    "                    optimizer.step()\n",
    "\n",
    "        if epsilon > epsilon_min:\n",
    "            epsilon *= epsilon_decay\n",
    "\n",
    "    return model, best_portfolio_value, best_portfolio_values"
   ]
  },
  {
   "cell_type": "markdown",
   "metadata": {
    "id": "AC8-KtIA1T4k"
   },
   "source": [
    "## Define Performance Metrics\n",
    "\n",
    "----------------------------------------------------"
   ]
  },
  {
   "cell_type": "code",
   "execution_count": 108,
   "metadata": {
    "id": "d2YSo-jb1T4k"
   },
   "outputs": [],
   "source": [
    "def evaluate_dqn_lstm(env, model):\n",
    "    env.reset()\n",
    "    state = torch.tensor(np.array([env.get_state()]), dtype=torch.float32).to(device)\n",
    "    portfolio_values = [env.get_portfolio_value()]\n",
    "\n",
    "    while True:\n",
    "        with torch.no_grad():\n",
    "            q_values = model(state.unsqueeze(0))\n",
    "            action = torch.argmax(q_values).item()\n",
    "\n",
    "        reward, done = env.step(action)\n",
    "        portfolio_values.append(env.get_portfolio_value())\n",
    "        state = torch.tensor([env.get_state()], dtype=torch.float32).to(device)\n",
    "\n",
    "        if done:\n",
    "            break\n",
    "\n",
    "    print(f\"Final Portfolio Values: {portfolio_values}\")\n",
    "    return portfolio_values\n",
    "\n",
    "# Define Performance Metrics\n",
    "def calculate_performance_metrics(portfolio_values, risk_free_rate=0.01):\n",
    "    portfolio_values = np.array(portfolio_values)\n",
    "\n",
    "    # Cumulative Return\n",
    "    initial_value = portfolio_values[0]\n",
    "    final_value = portfolio_values[-1]\n",
    "    cumulative_return = ((final_value - initial_value) / initial_value) * 100\n",
    "\n",
    "    # Sharpe Ratio\n",
    "    returns = np.diff(portfolio_values) / portfolio_values[:-1]\n",
    "    excess_returns = returns - risk_free_rate / 252  # Convert annual risk-free rate to daily\n",
    "    mean_excess_return = np.mean(excess_returns)\n",
    "    std_excess_return = np.std(excess_returns)\n",
    "    if std_excess_return != 0:\n",
    "        sharpe_ratio = mean_excess_return / std_excess_return * np.sqrt(252)\n",
    "    else:\n",
    "        sharpe_ratio = np.nan  # Avoid division by zero\n",
    "\n",
    "    # Maximum Drawdown\n",
    "    peak_values = np.maximum.accumulate(portfolio_values)\n",
    "    drawdowns = (peak_values - portfolio_values) / peak_values\n",
    "    maximum_drawdown = drawdowns.max() * 100\n",
    "\n",
    "    return cumulative_return, sharpe_ratio, maximum_drawdown\n"
   ]
  },
  {
   "cell_type": "markdown",
   "metadata": {
    "id": "l2p0xSHJ1T4l"
   },
   "source": [
    "## Evaluate Model\n",
    "\n",
    "----------------------------------------------------"
   ]
  },
  {
   "cell_type": "code",
   "execution_count": 110,
   "metadata": {
    "colab": {
     "base_uri": "https://localhost:8080/"
    },
    "id": "Uem2Xi8U1T4l",
    "outputId": "e3fb91bb-f5ed-41a2-f041-b4491b1d9970"
   },
   "outputs": [
    {
     "name": "stdout",
     "output_type": "stream",
     "text": [
      "Episode 1/5, Total Reward: 61.09399599999993, Portfolio Value: 161.0939959999999\n",
      "Episode 2/5, Total Reward: 88.88495500000002, Portfolio Value: 188.8849550000001\n",
      "Episode 3/5, Total Reward: 76.70149800000009, Portfolio Value: 176.70149799999982\n",
      "Episode 4/5, Total Reward: 107.03247100000007, Portfolio Value: 207.03247100000004\n",
      "Episode 5/5, Total Reward: 17.603423000000177, Portfolio Value: 117.60342300000045\n",
      "  Dataset  Initial Capital  Final Portfolio Value  Total Profits ($)  \\\n",
      "0    AMZN              100             207.032471         107.032471   \n",
      "\n",
      "   Cumulative Return (%)  Sharpe Ratio  Maximum Drawdown (%)  \n",
      "0             107.032471      0.445391             26.330472  \n"
     ]
    }
   ],
   "source": [
    "device = torch.device(\"cuda\" if torch.cuda.is_available() else \"cpu\")\n",
    "results = []\n",
    "\n",
    "input_dim = len(['Open', 'High', 'Low', 'Close', 'SMA', 'EMA', 'MACD'])\n",
    "hidden_dim = 64\n",
    "output_dim = 3  # Buy, Sell, Hold\n",
    "learning_rate = 0.001\n",
    "\n",
    "datasets = {\n",
    "    'AMZN': amzn_df,\n",
    "    #'GOOGL': googl_df,\n",
    "    #'MSFT': msft_df\n",
    "}\n",
    "\n",
    "for name, data in datasets.items():\n",
    "    # Clean the data to remove any infinities or NaNs\n",
    "    data.replace([np.inf, -np.inf], np.nan, inplace=True)\n",
    "    data.dropna(inplace=True)\n",
    "\n",
    "    env = TradingEnv(data, initial_capital=100)\n",
    "    model = DQN_LSTM(input_dim, hidden_dim, output_dim).to(device)\n",
    "    optimizer = optim.Adam(model.parameters(), lr=learning_rate)\n",
    "    criterion = nn.MSELoss()\n",
    "\n",
    "    # Train the model\n",
    "    model, best_portfolio_value, best_portfolio_values = train_dqn_lstm(env, model, optimizer, criterion)\n",
    "\n",
    "    # Evaluate the model using the best portfolio values achieved\n",
    "    final_portfolio_value = best_portfolio_value\n",
    "    initial_capital = env.initial_capital\n",
    "\n",
    "    total_profits = final_portfolio_value - initial_capital\n",
    "    cr, sr, mdd = calculate_performance_metrics(best_portfolio_values)\n",
    "\n",
    "    results.append({\n",
    "        'Dataset': name,\n",
    "        'Initial Capital': initial_capital,\n",
    "        'Final Portfolio Value': final_portfolio_value,\n",
    "        'Total Profits ($)': total_profits,\n",
    "        'Cumulative Return (%)': cr,\n",
    "        'Sharpe Ratio': sr,\n",
    "        'Maximum Drawdown (%)': mdd\n",
    "    })\n",
    "\n",
    "amzn_results_df = pd.DataFrame(results)\n",
    "\n",
    "# Display the results DataFrame\n",
    "print(amzn_results_df)"
   ]
  },
  {
   "cell_type": "code",
   "execution_count": 111,
   "metadata": {},
   "outputs": [
    {
     "name": "stdout",
     "output_type": "stream",
     "text": [
      "Episode 1/5, Total Reward: 67.35237000000006, Portfolio Value: 167.35237000000012\n",
      "Episode 2/5, Total Reward: 37.74014199999982, Portfolio Value: 137.74014199999962\n",
      "Episode 3/5, Total Reward: 44.693035000000094, Portfolio Value: 144.69303500000004\n",
      "Episode 4/5, Total Reward: 84.41762999999987, Portfolio Value: 184.4176299999999\n",
      "Episode 5/5, Total Reward: 70.90442599999994, Portfolio Value: 170.90442600000011\n",
      "  Dataset  Initial Capital  Final Portfolio Value  Total Profits ($)  \\\n",
      "0   GOOGL              100              184.41763           84.41763   \n",
      "\n",
      "   Cumulative Return (%)  Sharpe Ratio  Maximum Drawdown (%)  \n",
      "0               84.41763       0.49419             25.249118  \n"
     ]
    }
   ],
   "source": [
    "device = torch.device(\"cuda\" if torch.cuda.is_available() else \"cpu\")\n",
    "results = []\n",
    "\n",
    "input_dim = len(['Open', 'High', 'Low', 'Close', 'SMA', 'EMA', 'MACD'])\n",
    "hidden_dim = 64\n",
    "output_dim = 3  # Buy, Sell, Hold\n",
    "learning_rate = 0.001\n",
    "\n",
    "datasets = {\n",
    "    #'AMZN': amzn_df,\n",
    "    'GOOGL': googl_df,\n",
    "    #'MSFT': msft_df\n",
    "}\n",
    "\n",
    "for name, data in datasets.items():\n",
    "    # Clean the data to remove any infinities or NaNs\n",
    "    data.replace([np.inf, -np.inf], np.nan, inplace=True)\n",
    "    data.dropna(inplace=True)\n",
    "\n",
    "    env = TradingEnv(data, initial_capital=100)\n",
    "    model = DQN_LSTM(input_dim, hidden_dim, output_dim).to(device)\n",
    "    optimizer = optim.Adam(model.parameters(), lr=learning_rate)\n",
    "    criterion = nn.MSELoss()\n",
    "\n",
    "    # Train the model\n",
    "    model, best_portfolio_value, best_portfolio_values = train_dqn_lstm(env, model, optimizer, criterion)\n",
    "\n",
    "    # Evaluate the model using the best portfolio values achieved\n",
    "    final_portfolio_value = best_portfolio_value\n",
    "    initial_capital = env.initial_capital\n",
    "\n",
    "    total_profits = final_portfolio_value - initial_capital\n",
    "    cr, sr, mdd = calculate_performance_metrics(best_portfolio_values)\n",
    "\n",
    "    results.append({\n",
    "        'Dataset': name,\n",
    "        'Initial Capital': initial_capital,\n",
    "        'Final Portfolio Value': final_portfolio_value,\n",
    "        'Total Profits ($)': total_profits,\n",
    "        'Cumulative Return (%)': cr,\n",
    "        'Sharpe Ratio': sr,\n",
    "        'Maximum Drawdown (%)': mdd\n",
    "    })\n",
    "\n",
    "googl_results_df = pd.DataFrame(results)\n",
    "\n",
    "# Display the results DataFrame\n",
    "print(googl_results_df)"
   ]
  },
  {
   "cell_type": "code",
   "execution_count": 112,
   "metadata": {},
   "outputs": [
    {
     "name": "stdout",
     "output_type": "stream",
     "text": [
      "Episode 1/5, Total Reward: 262.26020400000004, Portfolio Value: 362.26020399999993\n",
      "Episode 2/5, Total Reward: 137.74983600000022, Portfolio Value: 237.74983600000024\n",
      "Episode 3/5, Total Reward: 251.38999299999995, Portfolio Value: 351.38999299999995\n",
      "Episode 4/5, Total Reward: 92.31980099999927, Portfolio Value: 192.31980099999927\n",
      "Episode 5/5, Total Reward: 300.55991799999987, Portfolio Value: 400.5599179999998\n",
      "  Dataset  Initial Capital  Final Portfolio Value  Total Profits ($)  \\\n",
      "0    MSFT              100             400.559918         300.559918   \n",
      "\n",
      "   Cumulative Return (%)  Sharpe Ratio  Maximum Drawdown (%)  \n",
      "0             300.559918      0.915875             17.491387  \n"
     ]
    }
   ],
   "source": [
    "device = torch.device(\"cuda\" if torch.cuda.is_available() else \"cpu\")\n",
    "results = []\n",
    "\n",
    "input_dim = len(['Open', 'High', 'Low', 'Close', 'SMA', 'EMA', 'MACD'])\n",
    "hidden_dim = 64\n",
    "output_dim = 3  # Buy, Sell, Hold\n",
    "learning_rate = 0.001\n",
    "\n",
    "datasets = {\n",
    "    #'AMZN': amzn_df,\n",
    "    #'GOOGL': googl_df,\n",
    "    'MSFT': msft_df\n",
    "}\n",
    "\n",
    "for name, data in datasets.items():\n",
    "    # Clean the data to remove any infinities or NaNs\n",
    "    data.replace([np.inf, -np.inf], np.nan, inplace=True)\n",
    "    data.dropna(inplace=True)\n",
    "\n",
    "    env = TradingEnv(data, initial_capital=100)\n",
    "    model = DQN_LSTM(input_dim, hidden_dim, output_dim).to(device)\n",
    "    optimizer = optim.Adam(model.parameters(), lr=learning_rate)\n",
    "    criterion = nn.MSELoss()\n",
    "\n",
    "    # Train the model\n",
    "    model, best_portfolio_value, best_portfolio_values = train_dqn_lstm(env, model, optimizer, criterion)\n",
    "\n",
    "    # Evaluate the model using the best portfolio values achieved\n",
    "    final_portfolio_value = best_portfolio_value\n",
    "    initial_capital = env.initial_capital\n",
    "\n",
    "    total_profits = final_portfolio_value - initial_capital\n",
    "    cr, sr, mdd = calculate_performance_metrics(best_portfolio_values)\n",
    "\n",
    "    results.append({\n",
    "        'Dataset': name,\n",
    "        'Initial Capital': initial_capital,\n",
    "        'Final Portfolio Value': final_portfolio_value,\n",
    "        'Total Profits ($)': total_profits,\n",
    "        'Cumulative Return (%)': cr,\n",
    "        'Sharpe Ratio': sr,\n",
    "        'Maximum Drawdown (%)': mdd\n",
    "    })\n",
    "\n",
    "msft_results_df = pd.DataFrame(results)\n",
    "\n",
    "# Display the results DataFrame\n",
    "print(msft_results_df)"
   ]
  },
  {
   "cell_type": "markdown",
   "metadata": {
    "id": "Udfz3DDV1T4l"
   },
   "source": [
    "## Results Analysis\n",
    "\n",
    "----------------------------------------------------"
   ]
  },
  {
   "cell_type": "code",
   "execution_count": 114,
   "metadata": {
    "colab": {
     "base_uri": "https://localhost:8080/",
     "height": 144
    },
    "id": "RezSG7hG1nQh",
    "outputId": "49c398b2-6ddc-47fd-cce9-ed0aae96a927"
   },
   "outputs": [
    {
     "data": {
      "text/html": [
       "<div>\n",
       "<style scoped>\n",
       "    .dataframe tbody tr th:only-of-type {\n",
       "        vertical-align: middle;\n",
       "    }\n",
       "\n",
       "    .dataframe tbody tr th {\n",
       "        vertical-align: top;\n",
       "    }\n",
       "\n",
       "    .dataframe thead th {\n",
       "        text-align: right;\n",
       "    }\n",
       "</style>\n",
       "<table border=\"1\" class=\"dataframe\">\n",
       "  <thead>\n",
       "    <tr style=\"text-align: right;\">\n",
       "      <th></th>\n",
       "      <th>Dataset</th>\n",
       "      <th>Initial Capital</th>\n",
       "      <th>Final Portfolio Value</th>\n",
       "      <th>Total Profits ($)</th>\n",
       "      <th>Cumulative Return (%)</th>\n",
       "      <th>Sharpe Ratio</th>\n",
       "      <th>Maximum Drawdown (%)</th>\n",
       "    </tr>\n",
       "  </thead>\n",
       "  <tbody>\n",
       "    <tr>\n",
       "      <th>0</th>\n",
       "      <td>AMZN</td>\n",
       "      <td>100</td>\n",
       "      <td>207.032471</td>\n",
       "      <td>107.032471</td>\n",
       "      <td>107.032471</td>\n",
       "      <td>0.445391</td>\n",
       "      <td>26.330472</td>\n",
       "    </tr>\n",
       "  </tbody>\n",
       "</table>\n",
       "</div>"
      ],
      "text/plain": [
       "  Dataset  Initial Capital  Final Portfolio Value  Total Profits ($)  \\\n",
       "0    AMZN              100             207.032471         107.032471   \n",
       "\n",
       "   Cumulative Return (%)  Sharpe Ratio  Maximum Drawdown (%)  \n",
       "0             107.032471      0.445391             26.330472  "
      ]
     },
     "metadata": {},
     "output_type": "display_data"
    },
    {
     "name": "stdout",
     "output_type": "stream",
     "text": [
      "\n"
     ]
    },
    {
     "data": {
      "text/html": [
       "<div>\n",
       "<style scoped>\n",
       "    .dataframe tbody tr th:only-of-type {\n",
       "        vertical-align: middle;\n",
       "    }\n",
       "\n",
       "    .dataframe tbody tr th {\n",
       "        vertical-align: top;\n",
       "    }\n",
       "\n",
       "    .dataframe thead th {\n",
       "        text-align: right;\n",
       "    }\n",
       "</style>\n",
       "<table border=\"1\" class=\"dataframe\">\n",
       "  <thead>\n",
       "    <tr style=\"text-align: right;\">\n",
       "      <th></th>\n",
       "      <th>Dataset</th>\n",
       "      <th>Initial Capital</th>\n",
       "      <th>Final Portfolio Value</th>\n",
       "      <th>Total Profits ($)</th>\n",
       "      <th>Cumulative Return (%)</th>\n",
       "      <th>Sharpe Ratio</th>\n",
       "      <th>Maximum Drawdown (%)</th>\n",
       "    </tr>\n",
       "  </thead>\n",
       "  <tbody>\n",
       "    <tr>\n",
       "      <th>0</th>\n",
       "      <td>GOOGL</td>\n",
       "      <td>100</td>\n",
       "      <td>184.41763</td>\n",
       "      <td>84.41763</td>\n",
       "      <td>84.41763</td>\n",
       "      <td>0.49419</td>\n",
       "      <td>25.249118</td>\n",
       "    </tr>\n",
       "  </tbody>\n",
       "</table>\n",
       "</div>"
      ],
      "text/plain": [
       "  Dataset  Initial Capital  Final Portfolio Value  Total Profits ($)  \\\n",
       "0   GOOGL              100              184.41763           84.41763   \n",
       "\n",
       "   Cumulative Return (%)  Sharpe Ratio  Maximum Drawdown (%)  \n",
       "0               84.41763       0.49419             25.249118  "
      ]
     },
     "metadata": {},
     "output_type": "display_data"
    },
    {
     "name": "stdout",
     "output_type": "stream",
     "text": [
      "\n"
     ]
    },
    {
     "data": {
      "text/html": [
       "<div>\n",
       "<style scoped>\n",
       "    .dataframe tbody tr th:only-of-type {\n",
       "        vertical-align: middle;\n",
       "    }\n",
       "\n",
       "    .dataframe tbody tr th {\n",
       "        vertical-align: top;\n",
       "    }\n",
       "\n",
       "    .dataframe thead th {\n",
       "        text-align: right;\n",
       "    }\n",
       "</style>\n",
       "<table border=\"1\" class=\"dataframe\">\n",
       "  <thead>\n",
       "    <tr style=\"text-align: right;\">\n",
       "      <th></th>\n",
       "      <th>Dataset</th>\n",
       "      <th>Initial Capital</th>\n",
       "      <th>Final Portfolio Value</th>\n",
       "      <th>Total Profits ($)</th>\n",
       "      <th>Cumulative Return (%)</th>\n",
       "      <th>Sharpe Ratio</th>\n",
       "      <th>Maximum Drawdown (%)</th>\n",
       "    </tr>\n",
       "  </thead>\n",
       "  <tbody>\n",
       "    <tr>\n",
       "      <th>0</th>\n",
       "      <td>MSFT</td>\n",
       "      <td>100</td>\n",
       "      <td>400.559918</td>\n",
       "      <td>300.559918</td>\n",
       "      <td>300.559918</td>\n",
       "      <td>0.915875</td>\n",
       "      <td>17.491387</td>\n",
       "    </tr>\n",
       "  </tbody>\n",
       "</table>\n",
       "</div>"
      ],
      "text/plain": [
       "  Dataset  Initial Capital  Final Portfolio Value  Total Profits ($)  \\\n",
       "0    MSFT              100             400.559918         300.559918   \n",
       "\n",
       "   Cumulative Return (%)  Sharpe Ratio  Maximum Drawdown (%)  \n",
       "0             300.559918      0.915875             17.491387  "
      ]
     },
     "metadata": {},
     "output_type": "display_data"
    },
    {
     "name": "stdout",
     "output_type": "stream",
     "text": [
      "\n"
     ]
    }
   ],
   "source": [
    "display(amzn_results_df)\n",
    "print()\n",
    "display(googl_results_df)\n",
    "print()\n",
    "display(msft_results_df)\n",
    "print()"
   ]
  },
  {
   "cell_type": "code",
   "execution_count": 115,
   "metadata": {},
   "outputs": [
    {
     "data": {
      "text/html": [
       "<div>\n",
       "<style scoped>\n",
       "    .dataframe tbody tr th:only-of-type {\n",
       "        vertical-align: middle;\n",
       "    }\n",
       "\n",
       "    .dataframe tbody tr th {\n",
       "        vertical-align: top;\n",
       "    }\n",
       "\n",
       "    .dataframe thead th {\n",
       "        text-align: right;\n",
       "    }\n",
       "</style>\n",
       "<table border=\"1\" class=\"dataframe\">\n",
       "  <thead>\n",
       "    <tr style=\"text-align: right;\">\n",
       "      <th></th>\n",
       "      <th>Dataset</th>\n",
       "      <th>Initial Capital</th>\n",
       "      <th>Final Portfolio Value</th>\n",
       "      <th>Total Profits ($)</th>\n",
       "      <th>Cumulative Return (%)</th>\n",
       "      <th>Sharpe Ratio</th>\n",
       "      <th>Maximum Drawdown (%)</th>\n",
       "    </tr>\n",
       "  </thead>\n",
       "  <tbody>\n",
       "    <tr>\n",
       "      <th>0</th>\n",
       "      <td>AMZN</td>\n",
       "      <td>100</td>\n",
       "      <td>207.032471</td>\n",
       "      <td>107.032471</td>\n",
       "      <td>107.032471</td>\n",
       "      <td>0.445391</td>\n",
       "      <td>26.330472</td>\n",
       "    </tr>\n",
       "    <tr>\n",
       "      <th>1</th>\n",
       "      <td>GOOGL</td>\n",
       "      <td>100</td>\n",
       "      <td>184.417630</td>\n",
       "      <td>84.417630</td>\n",
       "      <td>84.417630</td>\n",
       "      <td>0.494190</td>\n",
       "      <td>25.249118</td>\n",
       "    </tr>\n",
       "    <tr>\n",
       "      <th>2</th>\n",
       "      <td>MSFT</td>\n",
       "      <td>100</td>\n",
       "      <td>400.559918</td>\n",
       "      <td>300.559918</td>\n",
       "      <td>300.559918</td>\n",
       "      <td>0.915875</td>\n",
       "      <td>17.491387</td>\n",
       "    </tr>\n",
       "  </tbody>\n",
       "</table>\n",
       "</div>"
      ],
      "text/plain": [
       "  Dataset  Initial Capital  Final Portfolio Value  Total Profits ($)  \\\n",
       "0    AMZN              100             207.032471         107.032471   \n",
       "1   GOOGL              100             184.417630          84.417630   \n",
       "2    MSFT              100             400.559918         300.559918   \n",
       "\n",
       "   Cumulative Return (%)  Sharpe Ratio  Maximum Drawdown (%)  \n",
       "0             107.032471      0.445391             26.330472  \n",
       "1              84.417630      0.494190             25.249118  \n",
       "2             300.559918      0.915875             17.491387  "
      ]
     },
     "metadata": {},
     "output_type": "display_data"
    }
   ],
   "source": [
    "# Concatenate the DataFrames vertically\n",
    "combined_df = pd.concat([amzn_results_df, googl_results_df, msft_results_df], ignore_index=True)\n",
    "\n",
    "# Display the combined DataFrame\n",
    "display(combined_df)"
   ]
  }
 ],
 "metadata": {
  "colab": {
   "provenance": []
  },
  "kernelspec": {
   "display_name": "Python 3 (ipykernel)",
   "language": "python",
   "name": "python3"
  },
  "language_info": {
   "codemirror_mode": {
    "name": "ipython",
    "version": 3
   },
   "file_extension": ".py",
   "mimetype": "text/x-python",
   "name": "python",
   "nbconvert_exporter": "python",
   "pygments_lexer": "ipython3",
   "version": "3.11.7"
  }
 },
 "nbformat": 4,
 "nbformat_minor": 4
}
